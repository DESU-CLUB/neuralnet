{
 "cells": [
  {
   "cell_type": "code",
   "execution_count": 20,
   "id": "c7fd38f6",
   "metadata": {
    "editable": true,
    "slideshow": {
     "slide_type": "skip"
    },
    "tags": []
   },
   "outputs": [],
   "source": [
    "import torch\n",
    "import sklearn\n",
    "import numpy\n",
    "import matplotlib.pyplot as plt\n",
    "import random\n",
    "def set_seed(seed=42): #Make sure its reproducible by making sure the RNG generates a predefined pattern\n",
    "    torch.manual_seed(seed)\n",
    "    torch.cuda.manual_seed_all(seed)\n",
    "    torch.backends.cudnn.deterministic = True\n",
    "    torch.backends.cudnn.benchmark = False\n",
    "    numpy.random.seed(seed)\n",
    "    random.seed(seed)\n",
    "\n",
    "# Call the function\n",
    "set_seed(42)"
   ]
  },
  {
   "cell_type": "code",
   "execution_count": 21,
   "id": "95511ca6-ccbc-4ff2-89e0-38bf828b02bd",
   "metadata": {
    "editable": true,
    "slideshow": {
     "slide_type": "skip"
    },
    "tags": []
   },
   "outputs": [
    {
     "data": {
      "text/html": [
       "\n",
       "<style>\n",
       ".reveal { font-size: 24px; }\n",
       ".reveal pre { font-size: 18px; }\n",
       "div.rise-enabled .reveal .rendered_html {\n",
       "    font-size: 36px !important;\n",
       "}\n",
       "</style>\n"
      ],
      "text/plain": [
       "<IPython.core.display.HTML object>"
      ]
     },
     "execution_count": 21,
     "metadata": {},
     "output_type": "execute_result"
    }
   ],
   "source": [
    "from IPython.display import HTML\n",
    "HTML(\"\"\"\n",
    "<style>\n",
    ".reveal { font-size: 24px; }\n",
    ".reveal pre { font-size: 18px; }\n",
    "div.rise-enabled .reveal .rendered_html {\n",
    "    font-size: 36px !important;\n",
    "}\n",
    "</style>\n",
    "\"\"\")"
   ]
  },
  {
   "cell_type": "markdown",
   "id": "29767b8e",
   "metadata": {
    "editable": true,
    "slideshow": {
     "slide_type": "slide"
    },
    "tags": []
   },
   "source": [
    "# Introduction to Neural Networks: Zero to Hero\n",
    "\n",
    "                        Warren Low"
   ]
  },
  {
   "cell_type": "markdown",
   "id": "ddb4a1a6-6a06-4bf1-ab9f-a89cda61cff7",
   "metadata": {
    "editable": true,
    "slideshow": {
     "slide_type": "slide"
    },
    "tags": []
   },
   "source": [
    "# Recent News\n",
    "\n",
    "<img src=\"https://chatdeepseeks.com/wp-content/uploads/2025/01/Chat-with-DeepSeek-AI-on-chat.deepseek.com_-1024x551.webp\" style=\"width:1200px\">\n",
    "\n"
   ]
  },
  {
   "cell_type": "markdown",
   "id": "727ef8e1-90de-4b90-9390-efb247c85ac8",
   "metadata": {
    "editable": true,
    "raw_mimetype": "",
    "slideshow": {
     "slide_type": "subslide"
    },
    "tags": []
   },
   "source": [
    "# AI can generate songs\n",
    "![udio](resources/udio.png)"
   ]
  },
  {
   "cell_type": "markdown",
   "id": "e7804a30-a311-4ed8-93df-69c00c820cbf",
   "metadata": {
    "editable": true,
    "slideshow": {
     "slide_type": "subslide"
    },
    "tags": []
   },
   "source": [
    "# AI can generate videos!\n",
    "\n",
    "![Sora](resources/sora.png)"
   ]
  },
  {
   "cell_type": "markdown",
   "id": "7e171c53-3d37-49fd-8d7b-52069b642d61",
   "metadata": {
    "editable": true,
    "slideshow": {
     "slide_type": "slide"
    },
    "tags": []
   },
   "source": [
    "# Why ML/DL\n",
    "- <span style=\"font-size: 24px;\">In recent years, deep learning has been useful to solve and automate novel problems</span>"
   ]
  },
  {
   "cell_type": "markdown",
   "id": "1660bf80-d3d0-4dd7-86df-d60f455a29f7",
   "metadata": {
    "editable": true,
    "slideshow": {
     "slide_type": "fragment"
    },
    "tags": []
   },
   "source": [
    "# Solving CTFs\n",
    "\n",
    "<img src=\"resources/ctf.png\" style=\"width:1200px\">"
   ]
  },
  {
   "cell_type": "markdown",
   "id": "e4cf00e7-5c66-45a5-a7dd-a7e631d27aac",
   "metadata": {
    "editable": true,
    "jp-MarkdownHeadingCollapsed": true,
    "slideshow": {
     "slide_type": "slide"
    },
    "tags": []
   },
   "source": [
    "# Solving SWE problems\n",
    "\n",
    "<img src= resources/swe.png style= \"width: 1200px\">"
   ]
  },
  {
   "cell_type": "markdown",
   "id": "21b9952e-cdb3-4373-b0eb-6cfed5120996",
   "metadata": {
    "editable": true,
    "slideshow": {
     "slide_type": "slide"
    },
    "tags": []
   },
   "source": [
    "# Basics\n",
    "- <span style=\"font-size: 24px;\">AI is generally defined as a data driven way to solve problems</span>\n",
    "- <span style=\"font-size: 24px;\">Recap to O/A-levels</span>\n",
    "    - <span style=\"font-size: 24px;\">Y = mx+c</span>\n",
    "    -  <span style=\"font-size: 24px;\">Use a best fit line to draw conclusions</span>\n",
    "\n",
    "![reg](resources/regression.png)"
   ]
  },
  {
   "cell_type": "markdown",
   "id": "d63bf2e7-0626-4769-88cb-d35c45f6217c",
   "metadata": {
    "editable": true,
    "slideshow": {
     "slide_type": "slide"
    },
    "tags": []
   },
   "source": [
    "# Basics -> ML\n",
    "- <span style=\"font-size: 36px;\">ML uses the same idea!</span>\n",
    "- <span style=\"font-size: 36px;\">Simplest form of ML -> Linear regression</span>\n",
    "- <span style=\"font-size: 36px;\">ML in essence is the ability to train models to fit on data</span>\n",
    "- <span style=\"font-size: 36px;\">Then predict for unseen data</span>"
   ]
  },
  {
   "attachments": {},
   "cell_type": "markdown",
   "id": "a31115c4-9fad-4e17-b48d-babcb239ff23",
   "metadata": {
    "editable": true,
    "slideshow": {
     "slide_type": "fragment"
    },
    "tags": []
   },
   "source": [
    "# Average ML Pipeline\n",
    "\n",
    "<img src=\"https://static.designandreuse.com/img20/20230306c_1.jpg\" style=\"width: 1000px;\"/>"
   ]
  },
  {
   "cell_type": "markdown",
   "id": "e259c322-e1ca-4030-ab54-426e73d3e973",
   "metadata": {
    "editable": true,
    "slideshow": {
     "slide_type": "slide"
    },
    "tags": []
   },
   "source": [
    "# Neural Networks are Bob the Builder\n",
    "- <span style=\"font-size: 24px;\">It is the quintessential block of deep learning</span>\n",
    "    - <span style=\"font-size: 24px;\">LLMs, image generation, video generation, text to speech and so much more!</span>\n",
    " \n",
    "\n"
   ]
  },
  {
   "cell_type": "markdown",
   "id": "60bf5af7-e9c6-41da-8258-fa6b59231993",
   "metadata": {
    "editable": true,
    "slideshow": {
     "slide_type": "fragment"
    },
    "tags": []
   },
   "source": [
    "- <span style=\"font-size: 24px;\">Why are they used so much?</span>\n",
    "    - <span style=\"font-size: 24px;\">Can train on all kinds of data (LIDAR, images, text, audio)</span>\n",
    "    - <span style=\"font-size: 24px;\">Can be trained for all kinds of tasks! (Detect Object, generate images, audio, text, face recognition)</span>\n",
    "\n",
    "<img src=resources/tasks.png style=\"width: 900px;\"/>"
   ]
  },
  {
   "cell_type": "markdown",
   "id": "ff396702-4628-483f-867d-26c7da78bd59",
   "metadata": {
    "editable": true,
    "slideshow": {
     "slide_type": "slide"
    },
    "tags": []
   },
   "source": [
    "# Neuron (Part 1)\n",
    "- <span style=\"font-size: 28px;\">A linear equation</span>\n",
    "- <span style=\"font-size: 28px;\">Y = **m**x+**c**</span>\n",
    "- <span style=\"font-size: 28px;\">Notation: m is W and c is B</span>\n",
    "- <span style=\"font-size: 28px;\">M and c are **parameters** the neuron tries to find to get the best fit line</span>\n",
    "- <span style=\"font-size: 28px;\">The neuron will keep on updating M and c to get the best result</span>\n",
    "- <span style=\"font-size: 28px;\">Ignore $\\sigma$(z) for now we'll go through that later</span>\n",
    "\n",
    "\n",
    "<img src=\"resources/neuron.png\" style=\"width:1200px\">\n"
   ]
  },
  {
   "attachments": {},
   "cell_type": "markdown",
   "id": "96670f9c-d3bd-484f-a11a-70bdf8668313",
   "metadata": {
    "editable": true,
    "slideshow": {
     "slide_type": "slide"
    },
    "tags": []
   },
   "source": [
    "# Visualisation of Neural Networks\n",
    "\n",
    "<span style=\"font-size: 24px;\">Before we head into anything more complicated, let's start with visualising how the flow of a neuron goes</span>\n",
    "\n",
    "\n",
    "\n",
    "<img src=\"resources/linreg.png\" style =\"width: 1200px;\"/>"
   ]
  },
  {
   "cell_type": "markdown",
   "id": "9bed0fbe-cbe6-45c2-9981-1bed80404814",
   "metadata": {
    "editable": true,
    "slideshow": {
     "slide_type": "slide"
    },
    "tags": []
   },
   "source": [
    "# Neuron as matrices\n",
    "- <span style=\"font-size: 24px;\">Realise that there are many x and w's in the previous image</span>\n",
    "- <span style=\"font-size: 24px;\">We can probably do a nested for loop (Slow!)</span>\n",
    "- <span style=\"font-size: 24px;\">If we turn everything into matrices, it is way faster</span>\n",
    "- <span style=\"font-size: 24px;\">In AI, we use a more general matrix called a Tensor</span>\n",
    "\n",
    "\n",
    "<img src=\"resources/matrix.png\" style=\"height:600px;\">"
   ]
  },
  {
   "cell_type": "markdown",
   "id": "dce1d3c1-3525-4e58-87b9-a071b927e099",
   "metadata": {
    "editable": true,
    "slideshow": {
     "slide_type": "subslide"
    },
    "tags": []
   },
   "source": [
    "# What is a Tensor?\n",
    "- <span style=\"font-size: 24px;\">n dimesnional matrix</span>\n",
    "- <span style=\"font-size: 24px;\">Basic building block that is fed into neurons</span>\n",
    "- <span style=\"font-size: 24px;\">Data is usually converted into tensors before we can work with Pytorch</span>\n",
    "\n",
    "<img src = https://miro.medium.com/v2/resize:fit:1400/1*6Z892ClZGon03_Mawj4Pew.png/ style=\"height:600px\">"
   ]
  },
  {
   "cell_type": "code",
   "execution_count": 2,
   "id": "642c8aad-f2f0-4f69-8296-e675304be32b",
   "metadata": {
    "editable": true,
    "slideshow": {
     "slide_type": "slide"
    },
    "tags": []
   },
   "outputs": [
    {
     "name": "stdout",
     "output_type": "stream",
     "text": [
      "Output is: 23.766162872314453\n",
      "Weight: 0.7645385265350342\n",
      "Bias: 0.8300079107284546\n",
      "Y = mx+c: 23.76616370677948\n"
     ]
    }
   ],
   "source": [
    "#Exercise 1: Let's make our first neuron!\n",
    "import torch.nn as nn\n",
    "\n",
    "neuron = nn.Linear(1,1) #Takes in 1 value and outputs 1 value\n",
    "\n",
    "inp = torch.tensor([30.0]) #inp for our tensor: A Tensor is like a n-dimensional matrix\n",
    "\n",
    "out = neuron(inp) #We feed the input into our neuron to get y, the output (inside it applies mx+c)\n",
    "print(\"Output is:\",out.item())\n",
    "\n",
    "## Let's also print our weights and biases\n",
    "print(\"Weight:\",neuron.weight.item()) \n",
    "print(\"Bias:\",neuron.bias.item())\n",
    "#Manually verifying if y=mx+c is correct\n",
    "print(\"Y = mx+c:\",neuron.weight.item() * inp.item() + neuron.bias.item())\n",
    "\n",
    "\n",
    "    "
   ]
  },
  {
   "cell_type": "code",
   "execution_count": 3,
   "id": "5ad9d48a-772a-4016-9ff3-31cefd115df7",
   "metadata": {
    "editable": true,
    "slideshow": {
     "slide_type": "subslide"
    },
    "tags": []
   },
   "outputs": [
    {
     "name": "stdout",
     "output_type": "stream",
     "text": [
      "Shape: torch.Size([5, 5])\n",
      "Input:\n",
      "tensor([[0.3829, 0.9593, 0.3904, 0.6009, 0.2566],\n",
      "        [0.7936, 0.9408, 0.1332, 0.9346, 0.5936],\n",
      "        [0.8694, 0.5677, 0.7411, 0.4294, 0.8854],\n",
      "        [0.5739, 0.2666, 0.6274, 0.2696, 0.4414],\n",
      "        [0.2969, 0.8317, 0.1053, 0.2695, 0.3588]])\n",
      "Output:\n",
      "tensor([[ 0.2556],\n",
      "        [ 0.2647],\n",
      "        [-0.3548],\n",
      "        [-0.1337],\n",
      "        [ 0.2265]], grad_fn=<AddmmBackward0>)\n",
      "\n",
      "Weight: Parameter containing:\n",
      "tensor([[-0.2689,  0.0422, -0.4417,  0.4039, -0.3799]], requires_grad=True)\n",
      "\n",
      "Bias: Parameter containing:\n",
      "tensor([0.3453], requires_grad=True)\n"
     ]
    }
   ],
   "source": [
    "### Bonus 1: Just to illustrate the use of matrices/tensors\n",
    "\n",
    "inp = torch.rand(5,5) #Generate 5 examples with 5 values\n",
    "print(\"Shape:\", inp.shape) #Tells us the dimensions of the tensor/matrix\n",
    "print(\"Input:\")\n",
    "print(inp)\n",
    "\n",
    "#The neuron below \n",
    "new_neuron = nn.Linear(5,1) #Observe that it can take 5 examples in parallel as well\n",
    "out = new_neuron(inp) #Feed the input into our neuron\n",
    "print(\"Output:\")\n",
    "print(out)\n",
    "print()\n",
    "\n",
    "### Weights and biases should now be tensors also\n",
    "print(\"Weight:\",new_neuron.weight, end=\"\\n\\n\")\n",
    "print(\"Bias:\",new_neuron.bias) #Notice that the bias is still onve value: That' because the same bias is used for the whole layer\n"
   ]
  },
  {
   "cell_type": "markdown",
   "id": "61802d72-bc25-4daf-b3be-0aa5497aa1be",
   "metadata": {
    "editable": true,
    "slideshow": {
     "slide_type": "slide"
    },
    "tags": []
   },
   "source": [
    "# How can we train AI models?\n",
    "\n",
    "- <span style=\"font-size: 24px;\">A good analogy for training is like studying for exams: We do assignments, and check the answer key to deepen our understanding</span>\n",
    "- <span style=\"font-size: 24px;\">Similarly, we have both a \"homework\" and \"corrections\" phase for AI</span>\n",
    "\n",
    "![study](https://www.teachhub.com/wp-content/uploads/2020/06/How-Much-Homework-is-Too-Much.jpg)"
   ]
  },
  {
   "cell_type": "markdown",
   "id": "e73e6797-c456-4c07-b1a0-0c7a652b45bf",
   "metadata": {
    "editable": true,
    "slideshow": {
     "slide_type": "slide"
    },
    "tags": []
   },
   "source": [
    "# Forward and Backward Passes\n",
    "- <span style=\"font-size: 24px;\">So let's demystify these terms, and even learn to implement them in Pytorch!</span>\n",
    "- <span style=\"font-size: 24px;\">Forward pass: We send the inputs into the neural network, and it predicts an answer (doesn't matter if its the wrong answer)</span>\n",
    "    - <span style=\"font-size: 24px;\">We then find out how \"far away\" our predictions are from the actual outputs (This is called the loss)</span>\n",
    "- <span style=\"font-size: 24px;\">Backward pass: Now that we know how wrong our model is, we can update our model (WARNING: alot of math :(( )</span>\n",
    "\n",
    "![fwd](https://miro.medium.com/v2/resize:fit:1400/1*J-v2B6T9RKxdvwThtQ1NVg.png)"
   ]
  },
  {
   "cell_type": "code",
   "execution_count": 4,
   "id": "548377f4-393d-4255-bce8-41663ad852e4",
   "metadata": {
    "editable": true,
    "slideshow": {
     "slide_type": "slide"
    },
    "tags": []
   },
   "outputs": [
    {
     "name": "stdout",
     "output_type": "stream",
     "text": [
      "tensor([[0.1950],\n",
      "        [0.3361],\n",
      "        [0.1334]], grad_fn=<AddmmBackward0>)\n"
     ]
    }
   ],
   "source": [
    "#Exercise 2: Forward pass\n",
    "neuron = nn.Linear(3,1)\n",
    "\n",
    "inp = torch.rand(3,3)\n",
    "print(neuron(inp)) # Hold up! You might have seen this just now -> This is actually the forward pass\n",
    "\n",
    "# Notice that there's a grad_fn -> That'll be used for later (hint hint: differentiation)"
   ]
  },
  {
   "cell_type": "markdown",
   "id": "353b5b28-fe39-424a-b2e5-292e878a7fd1",
   "metadata": {
    "editable": true,
    "slideshow": {
     "slide_type": "slide"
    },
    "tags": []
   },
   "source": [
    "# Loss\n",
    "\n",
    "- <span style=\"font-size: 24px;\">We need to find out how correct or wrong these values are, compared to the correct answer</span>\n",
    "- <span style=\"font-size: 24px;\">We use math formulas to calculate a distance (Mean Square Error, Mean Absolute Error, etc.)</span>\n",
    "- <span style=\"font-size: 24px;\">This distance is called the loss -> Useful for evaluating how good or bad your AI is!</span>\n",
    "- <span style=\"font-size: 24px;\">We want to minimize this distance</span>\n",
    "- ![img](https://www.js-craft.io/wp-content/uploads/2023/03/javascript-neuronal-networks-train.webp)"
   ]
  },
  {
   "cell_type": "markdown",
   "id": "edee17d1-62f8-4711-a46d-d697af94c399",
   "metadata": {
    "editable": true,
    "slideshow": {
     "slide_type": "slide"
    },
    "tags": []
   },
   "source": [
    "# Backward Pass and Gradient Descent\n",
    "\n",
    "<div style = \"font-size:24px;\">\n",
    "    \n",
    "- In AI, we are trying to minimize the distance between our predicted answer and the correct answer\n",
    "- Where have we learnt that before -> Differentiation\n",
    "- Minimum values -> dy/dx = 0\n",
    "\n",
    "- We are using the same intuition here to minimize the loss (distance) w.r.t **each parameter**\n",
    "- So we are going to do differentiation for every m and c\n",
    "- And push each m and c towards a value which minimizes the loss¶\n",
    "\n",
    "This specific algorithm is called gradient descent\n",
    "</div>\n",
    "\n",
    "![gd](https://mlpills.dev/wp-content/uploads/2022/10/CaIB7lz-h.jpg)"
   ]
  },
  {
   "cell_type": "markdown",
   "id": "e52fc238-3554-433e-885b-b6cde4ea114a",
   "metadata": {
    "editable": true,
    "slideshow": {
     "slide_type": "subslide"
    },
    "tags": []
   },
   "source": [
    "# Gradient Descent Explained Simple\n",
    "<div style = \"font-size:24px;\">\n",
    "    \n",
    "- Let's say I only have 2 parameters for a single neuron\n",
    "    - m and c\n",
    "- Once I calculate my loss, L\n",
    "- I will need to find the error caused by m/c w.r.t L\n",
    "    \n",
    "- So dL/dw and dL/dc\n",
    "- The issue with this is that, I have two variables in y = mx+c (m and c)\n",
    "- Use **partial differentiation**\n",
    "    - This just means ignore all other variables: For $\\delta$L/$\\delta$m, c is treated as a constant\n",
    "    - Once I get this value, then I will just subtract it away from m/c\n",
    "        - Why?\n",
    "        - This value is the \"error\", so we subtract it to bring m/c closer to the optimal value\n",
    "</div>"
   ]
  },
  {
   "cell_type": "code",
   "execution_count": 5,
   "id": "be96ebf6-19ff-4721-8660-6f9d74042ab4",
   "metadata": {
    "editable": true,
    "slideshow": {
     "slide_type": "slide"
    },
    "tags": []
   },
   "outputs": [
    {
     "name": "stdout",
     "output_type": "stream",
     "text": [
      "New value of w: -617\n",
      "New value of c -32\n"
     ]
    }
   ],
   "source": [
    "# Simple backward pass for L = y**2 +5\n",
    "# First, convert L in terms of m and c\n",
    "# L = (mx+c)**2 +5\n",
    "# L = (mx**2) +mcx +5 + c**2\n",
    "#Differentiate partially wrt m: 2mx**2 + cx\n",
    "#Differentiate partially wrt c: mx + 2c\n",
    "w = 3\n",
    "c = 2\n",
    "x = 10\n",
    "dLdw = 2*w*(x**2) + c*x #2mx**2+cx\n",
    "dLdc = w*x+2*c #mx+2c\n",
    "w-=dLdw\n",
    "c-=dLdc\n",
    "print(\"New value of w:\",w)\n",
    "print(\"New value of c\",c)"
   ]
  },
  {
   "cell_type": "code",
   "execution_count": 6,
   "id": "8d1ed043-a5ed-4d1d-b940-77c031e220c4",
   "metadata": {
    "editable": true,
    "slideshow": {
     "slide_type": "slide"
    },
    "tags": []
   },
   "outputs": [
    {
     "name": "stdout",
     "output_type": "stream",
     "text": [
      "Loss of neuron: 0.03574219346046448\n",
      "Loss of neuron: 0.02029207907617092\n",
      "Loss of neuron: 0.012703734450042248\n",
      "Loss of neuron: 0.008667001500725746\n",
      "Loss of neuron: 0.006303602363914251\n",
      "Loss of neuron: 0.004780808929353952\n",
      "Loss of neuron: 0.0037182613741606474\n",
      "Loss of neuron: 0.002933587646111846\n",
      "Loss of neuron: 0.0023328810930252075\n",
      "Loss of neuron: 0.0018631605198606849\n"
     ]
    }
   ],
   "source": [
    "#Implementing Backward Pass\n",
    "\n",
    "#In Pytorch, everything has been hidden away so it looks simple\n",
    "\n",
    "#Let us define our questions and answer key\n",
    "neuron = nn.Linear(1,1)\n",
    "question = torch.linspace(0, 1, 10).reshape(-1, 1)  \n",
    "answers = question + 0.1  # Diagonal line with small offset\n",
    "\n",
    "loss_metric = torch.nn.MSELoss() #This just means: Use Mean Square Error to find out how wrong my AI model is\n",
    "optimizer = torch.optim.SGD(neuron.parameters(), lr = 0.65) #This just means -> Use gradient descent to get to the correct answer\n",
    "\n",
    "ITERATIONS = 10\n",
    "gradients = []\n",
    "y_intercepts = []\n",
    "\n",
    "for i in range(ITERATIONS):\n",
    "    gradients.append(neuron.weight.item())\n",
    "    y_intercepts.append(neuron.bias.item())\n",
    "    optimizer.zero_grad() #Reset the optimizer to zero (If this is not done, we will accumulate the values from previous loop too)\n",
    "    preds = neuron(question)\n",
    "    loss = loss_metric(preds,answers)\n",
    "    print(\"Loss of neuron:\",loss.item())\n",
    "    loss.backward()\n",
    "    optimizer.step()\n",
    "\n",
    "\n",
    "\n",
    "    \n",
    "    \n"
   ]
  },
  {
   "cell_type": "code",
   "execution_count": 7,
   "id": "e728f68a-09f2-48bd-8eee-29768e411817",
   "metadata": {
    "editable": true,
    "slideshow": {
     "slide_type": ""
    },
    "tags": []
   },
   "outputs": [
    {
     "data": {
      "image/png": "[encoded data removed]",
      "text/plain": [
       "<Figure size 1000x500 with 1 Axes>"
      ]
     },
     "metadata": {},
     "output_type": "display_data"
    }
   ],
   "source": [
    "fig, ax = plt.subplots(figsize=(10, 5))\n",
    "\n",
    "# Scatter plot of questions and answers\n",
    "ax.scatter(question, answers, c='blue', label='Training Data')\n",
    "\n",
    "# Plot lines for each iteration\n",
    "x = numpy.linspace(min(question), max(question), 100)\n",
    "for i in range(ITERATIONS):\n",
    "   y = gradients[i] * x + y_intercepts[i]\n",
    "   ax.plot(x, y, '--', alpha=0.5, label=f'Iteration {i+1}')\n",
    "\n",
    "ax.set_xlabel('Input')\n",
    "ax.set_ylabel('Output')\n",
    "ax.legend()\n",
    "plt.show()"
   ]
  },
  {
   "cell_type": "markdown",
   "id": "04bb5e75-65d6-48c7-a4a9-8b95c9ed4a26",
   "metadata": {
    "editable": true,
    "slideshow": {
     "slide_type": "slide"
    },
    "tags": []
   },
   "source": [
    "# However, a big problem with a single neuron\n",
    "<div style = \"font-size:24px;\">\n",
    "\n",
    "- It's only a best fit line\n",
    "- How do we fit more complicated data\n",
    "    - Real world patterns are really noisy!\n",
    "</div>\n",
    "\n",
    "![curve](resources/curve.png)"
   ]
  },
  {
   "cell_type": "markdown",
   "id": "90d3d381-13eb-4416-ad54-47ecbbe0836b",
   "metadata": {
    "editable": true,
    "slideshow": {
     "slide_type": ""
    },
    "tags": []
   },
   "source": [
    "# Example of Real World Data: MNIST\n",
    "\n",
    "<div style = \"font-size:24px;\">\n",
    "\n",
    "- Given data of pictures of digits from 0 to 9, can we predict the number in text?\n",
    "- This is a classification task: It should know how to classify a digit from 0 to 9 based on the image\n",
    "- Classification vs best fit line (Regression):\n",
    "\n",
    "    - In regression, you are trying to predict a continuous value (from 0 to infinity)\n",
    "    - In classification, you try to predict a class (Given numbers from 0 to 9, dog or cat or mouse, etc...)\n",
    "    \n",
    "- For example:\n",
    "\n",
    "![img](https://rasbt.github.io/mlxtend/user_guide/data/mnist_data_files/mnist_data_10_0.png)\n",
    "\n",
    "Our AI should predict 0\n",
    "</div>"
   ]
  },
  {
   "cell_type": "code",
   "execution_count": 8,
   "id": "8e0c4f3b-9e09-405d-ba67-39df1392d51e",
   "metadata": {
    "editable": true,
    "slideshow": {
     "slide_type": ""
    },
    "tags": []
   },
   "outputs": [
    {
     "data": {
      "image/png": "[encoded data removed]",
      "text/plain": [
       "<Figure size 800x800 with 9 Axes>"
      ]
     },
     "metadata": {},
     "output_type": "display_data"
    }
   ],
   "source": [
    "# Exercise 2: Let's introduce a toy problem to slowly solve now!\n",
    "\n",
    "#MNIST: Modified National Institute of Standards and Technology database\n",
    "# Given a picture of a number -> Can we predict the number in text?\n",
    "\n",
    "from torchvision import datasets, transforms\n",
    "import matplotlib.pyplot as plt\n",
    "\n",
    "# Load MNIST\n",
    "#transform = transforms.ToTransform()\n",
    "import struct\n",
    "\n",
    "\n",
    "def read_idx(filename):\n",
    "   with open(filename, 'rb') as f:\n",
    "       zero, data_type, dims = struct.unpack('>HBB', f.read(4))\n",
    "       shape = tuple(struct.unpack('>I', f.read(4))[0] for d in range(dims))\n",
    "       return numpy.frombuffer(f.read(), dtype=numpy.uint8).reshape(shape)\n",
    "\n",
    "# Load data\n",
    "X_train = read_idx('data/train-images.idx3-ubyte')\n",
    "y_train = read_idx('data/train-labels.idx1-ubyte')\n",
    "\n",
    "# Convert to torch tensors\n",
    "X_train = torch.from_numpy(X_train.copy()).float()\n",
    "y_train = torch.from_numpy(y_train.copy()).long()\n",
    "\n",
    "# Normalize images\n",
    "X_train = X_train / 255.0\n",
    "# Plot first 9 images\n",
    "fig, axes = plt.subplots(3, 3, figsize=(8, 8))\n",
    "for i, ax in enumerate(axes.flat):\n",
    "   img, label = X_train[i],y_train[i]\n",
    "   ax.imshow(img.squeeze(), cmap='gray')\n",
    "   ax.axis('off')\n",
    "   ax.set_title(f'Label: {label}')\n",
    "\n",
    "plt.tight_layout()\n",
    "plt.show()"
   ]
  },
  {
   "cell_type": "code",
   "execution_count": 9,
   "id": "b7b28e19-c223-461d-8637-6f0c519b75b7",
   "metadata": {
    "editable": true,
    "slideshow": {
     "slide_type": "slide"
    },
    "tags": []
   },
   "outputs": [
    {
     "name": "stdout",
     "output_type": "stream",
     "text": [
      "torch.Size([60000, 28, 28])\n",
      "torch.Size([60000, 784])\n",
      "Loss: 2.2967987060546875\n",
      "Accuracy:  12.13\n",
      "Loss: 2.243772506713867\n",
      "Accuracy:  20.61\n",
      "Loss: 2.192486047744751\n",
      "Accuracy:  30.39\n",
      "Loss: 2.142848253250122\n",
      "Accuracy:  40.55\n",
      "Loss: 2.0947678089141846\n",
      "Accuracy:  48.51\n",
      "Loss: 2.0481555461883545\n",
      "Accuracy:  53.97\n",
      "Loss: 2.00293231010437\n",
      "Accuracy:  57.65\n",
      "Loss: 1.9590309858322144\n",
      "Accuracy:  60.66\n",
      "Loss: 1.9163951873779297\n",
      "Accuracy:  62.83\n",
      "Loss: 1.8749725818634033\n",
      "Accuracy:  64.83\n",
      "Loss: 1.8347173929214478\n",
      "Accuracy:  66.36\n",
      "Loss: 1.7955869436264038\n",
      "Accuracy:  67.66\n",
      "Loss: 1.7575424909591675\n",
      "Accuracy:  68.77\n",
      "Loss: 1.7205501794815063\n",
      "Accuracy:  69.86\n",
      "Loss: 1.6845818758010864\n",
      "Accuracy:  70.81\n",
      "Loss: 1.6496148109436035\n",
      "Accuracy:  71.63\n",
      "Loss: 1.6156309843063354\n",
      "Accuracy:  72.41\n",
      "Loss: 1.582617998123169\n",
      "Accuracy:  73.15\n",
      "Loss: 1.5505672693252563\n",
      "Accuracy:  73.77\n",
      "Loss: 1.5194724798202515\n",
      "Accuracy:  74.34\n",
      "Loss: 1.4893279075622559\n",
      "Accuracy:  74.91\n",
      "Loss: 1.460127353668213\n",
      "Accuracy:  75.39\n",
      "Loss: 1.4318630695343018\n",
      "Accuracy:  75.81\n",
      "Loss: 1.4045244455337524\n",
      "Accuracy:  76.22\n",
      "Loss: 1.3780981302261353\n",
      "Accuracy:  76.57\n",
      "Loss: 1.3525673151016235\n",
      "Accuracy:  76.89\n",
      "Loss: 1.32791268825531\n",
      "Accuracy:  77.23\n",
      "Loss: 1.3041112422943115\n",
      "Accuracy:  77.47\n",
      "Loss: 1.2811386585235596\n",
      "Accuracy:  77.69\n",
      "Loss: 1.2589694261550903\n",
      "Accuracy:  77.88\n",
      "Loss: 1.2375757694244385\n",
      "Accuracy:  78.08\n",
      "Loss: 1.216930866241455\n",
      "Accuracy:  78.33\n",
      "Loss: 1.1970072984695435\n",
      "Accuracy:  78.54\n",
      "Loss: 1.1777782440185547\n",
      "Accuracy:  78.75\n",
      "Loss: 1.1592178344726562\n",
      "Accuracy:  78.94\n",
      "Loss: 1.1413010358810425\n",
      "Accuracy:  79.15\n",
      "Loss: 1.1240036487579346\n",
      "Accuracy:  79.34\n",
      "Loss: 1.1073020696640015\n",
      "Accuracy:  79.56\n",
      "Loss: 1.0911741256713867\n",
      "Accuracy:  79.74\n",
      "Loss: 1.0755969285964966\n",
      "Accuracy:  79.92\n",
      "Loss: 1.0605491399765015\n",
      "Accuracy:  80.06\n",
      "Loss: 1.0460091829299927\n",
      "Accuracy:  80.24\n",
      "Loss: 1.031956434249878\n",
      "Accuracy:  80.43\n",
      "Loss: 1.0183709859848022\n",
      "Accuracy:  80.59\n",
      "Loss: 1.0052330493927002\n",
      "Accuracy:  80.75\n",
      "Loss: 0.9925239682197571\n",
      "Accuracy:  80.94\n",
      "Loss: 0.9802255034446716\n",
      "Accuracy:  81.08\n",
      "Loss: 0.968320906162262\n",
      "Accuracy:  81.23\n",
      "Loss: 0.956793487071991\n",
      "Accuracy:  81.38\n",
      "Loss: 0.9456281065940857\n",
      "Accuracy:  81.52\n",
      "Loss: 0.9348099827766418\n",
      "Accuracy:  81.70\n",
      "Loss: 0.9243249893188477\n",
      "Accuracy:  81.84\n",
      "Loss: 0.9141599535942078\n",
      "Accuracy:  81.97\n",
      "Loss: 0.9043018817901611\n",
      "Accuracy:  82.11\n",
      "Loss: 0.8947386145591736\n",
      "Accuracy:  82.24\n",
      "Loss: 0.8854581117630005\n",
      "Accuracy:  82.39\n",
      "Loss: 0.8764491677284241\n",
      "Accuracy:  82.53\n",
      "Loss: 0.8677005171775818\n",
      "Accuracy:  82.65\n",
      "Loss: 0.8592017292976379\n",
      "Accuracy:  82.75\n",
      "Loss: 0.8509427309036255\n",
      "Accuracy:  82.88\n",
      "Loss: 0.8429136872291565\n",
      "Accuracy:  82.96\n",
      "Loss: 0.8351053595542908\n",
      "Accuracy:  83.09\n",
      "Loss: 0.8275090456008911\n",
      "Accuracy:  83.19\n",
      "Loss: 0.8201162815093994\n",
      "Accuracy:  83.28\n",
      "Loss: 0.8129189610481262\n",
      "Accuracy:  83.38\n",
      "Loss: 0.8059095740318298\n",
      "Accuracy:  83.50\n",
      "Loss: 0.7990809082984924\n",
      "Accuracy:  83.59\n",
      "Loss: 0.7924259305000305\n",
      "Accuracy:  83.72\n",
      "Loss: 0.7859382629394531\n",
      "Accuracy:  83.79\n",
      "Loss: 0.7796114087104797\n",
      "Accuracy:  83.89\n",
      "Loss: 0.7734397649765015\n",
      "Accuracy:  83.97\n",
      "Loss: 0.7674173712730408\n",
      "Accuracy:  84.07\n",
      "Loss: 0.7615388631820679\n",
      "Accuracy:  84.14\n",
      "Loss: 0.755799412727356\n",
      "Accuracy:  84.23\n",
      "Loss: 0.7501936554908752\n",
      "Accuracy:  84.33\n",
      "Loss: 0.744717001914978\n",
      "Accuracy:  84.42\n",
      "Loss: 0.7393650412559509\n",
      "Accuracy:  84.49\n",
      "Loss: 0.7341334223747253\n",
      "Accuracy:  84.57\n",
      "Loss: 0.729017972946167\n",
      "Accuracy:  84.65\n",
      "Loss: 0.7240146994590759\n",
      "Accuracy:  84.71\n",
      "Loss: 0.7191200256347656\n",
      "Accuracy:  84.79\n",
      "Loss: 0.7143301367759705\n",
      "Accuracy:  84.83\n",
      "Loss: 0.7096415758132935\n",
      "Accuracy:  84.90\n",
      "Loss: 0.7050512433052063\n",
      "Accuracy:  84.97\n",
      "Loss: 0.700555682182312\n",
      "Accuracy:  85.03\n",
      "Loss: 0.6961519122123718\n",
      "Accuracy:  85.09\n",
      "Loss: 0.6918372511863708\n",
      "Accuracy:  85.17\n",
      "Loss: 0.6876086592674255\n",
      "Accuracy:  85.23\n",
      "Loss: 0.683463454246521\n",
      "Accuracy:  85.29\n",
      "Loss: 0.6793993711471558\n",
      "Accuracy:  85.35\n",
      "Loss: 0.6754136681556702\n",
      "Accuracy:  85.44\n",
      "Loss: 0.6715040802955627\n",
      "Accuracy:  85.50\n",
      "Loss: 0.6676685810089111\n",
      "Accuracy:  85.57\n",
      "Loss: 0.6639046669006348\n",
      "Accuracy:  85.61\n",
      "Loss: 0.660210371017456\n",
      "Accuracy:  85.68\n",
      "Loss: 0.656583845615387\n",
      "Accuracy:  85.73\n",
      "Loss: 0.6530231833457947\n",
      "Accuracy:  85.80\n",
      "Loss: 0.6495262384414673\n",
      "Accuracy:  85.84\n",
      "Loss: 0.6460914611816406\n",
      "Accuracy:  85.91\n",
      "Loss: 0.6427170634269714\n",
      "Accuracy:  85.97\n",
      "Loss: 0.6394014358520508\n",
      "Accuracy:  86.03\n",
      "Loss: 0.6361430883407593\n",
      "Accuracy:  86.08\n",
      "Loss: 0.6329402923583984\n",
      "Accuracy:  86.12\n",
      "Loss: 0.6297916769981384\n",
      "Accuracy:  86.16\n",
      "Loss: 0.6266958117485046\n",
      "Accuracy:  86.19\n",
      "Loss: 0.6236514449119568\n",
      "Accuracy:  86.24\n",
      "Loss: 0.6206569671630859\n",
      "Accuracy:  86.28\n",
      "Loss: 0.6177113056182861\n",
      "Accuracy:  86.35\n",
      "Loss: 0.6148133277893066\n",
      "Accuracy:  86.40\n",
      "Loss: 0.6119617223739624\n",
      "Accuracy:  86.44\n",
      "Loss: 0.6091552376747131\n",
      "Accuracy:  86.48\n",
      "Loss: 0.6063929796218872\n",
      "Accuracy:  86.52\n",
      "Loss: 0.6036736369132996\n",
      "Accuracy:  86.56\n",
      "Loss: 0.6009964942932129\n",
      "Accuracy:  86.59\n",
      "Loss: 0.5983601808547974\n",
      "Accuracy:  86.65\n",
      "Loss: 0.5957639217376709\n",
      "Accuracy:  86.68\n",
      "Loss: 0.5932068824768066\n",
      "Accuracy:  86.70\n",
      "Loss: 0.5906879305839539\n",
      "Accuracy:  86.74\n",
      "Loss: 0.5882062911987305\n",
      "Accuracy:  86.79\n",
      "Loss: 0.5857611298561096\n",
      "Accuracy:  86.83\n",
      "Loss: 0.5833516120910645\n",
      "Accuracy:  86.86\n",
      "Loss: 0.5809770226478577\n",
      "Accuracy:  86.90\n",
      "Loss: 0.5786362886428833\n",
      "Accuracy:  86.94\n",
      "Loss: 0.5763289332389832\n",
      "Accuracy:  86.98\n",
      "Loss: 0.5740542411804199\n",
      "Accuracy:  87.00\n",
      "Loss: 0.5718111991882324\n",
      "Accuracy:  87.04\n",
      "Loss: 0.569599449634552\n",
      "Accuracy:  87.07\n",
      "Loss: 0.5674182772636414\n",
      "Accuracy:  87.11\n",
      "Loss: 0.5652669072151184\n",
      "Accuracy:  87.15\n",
      "Loss: 0.5631448030471802\n",
      "Accuracy:  87.17\n",
      "Loss: 0.5610513687133789\n",
      "Accuracy:  87.22\n",
      "Loss: 0.5589858293533325\n",
      "Accuracy:  87.25\n",
      "Loss: 0.5569478273391724\n",
      "Accuracy:  87.28\n",
      "Loss: 0.5549365878105164\n",
      "Accuracy:  87.31\n",
      "Loss: 0.5529518127441406\n",
      "Accuracy:  87.36\n",
      "Loss: 0.5509928464889526\n",
      "Accuracy:  87.40\n",
      "Loss: 0.5490590929985046\n",
      "Accuracy:  87.41\n",
      "Loss: 0.547150194644928\n",
      "Accuracy:  87.44\n",
      "Loss: 0.5452655553817749\n",
      "Accuracy:  87.46\n",
      "Loss: 0.5434048771858215\n",
      "Accuracy:  87.49\n",
      "Loss: 0.5415675044059753\n",
      "Accuracy:  87.51\n",
      "Loss: 0.5397529006004333\n",
      "Accuracy:  87.53\n",
      "Loss: 0.537960946559906\n",
      "Accuracy:  87.55\n",
      "Loss: 0.5361909866333008\n",
      "Accuracy:  87.58\n",
      "Loss: 0.5344424843788147\n",
      "Accuracy:  87.63\n",
      "Loss: 0.5327154397964478\n",
      "Accuracy:  87.66\n",
      "Loss: 0.5310091376304626\n",
      "Accuracy:  87.68\n",
      "Loss: 0.5293232798576355\n",
      "Accuracy:  87.71\n",
      "Loss: 0.5276574492454529\n",
      "Accuracy:  87.73\n",
      "Loss: 0.5260112881660461\n",
      "Accuracy:  87.78\n"
     ]
    }
   ],
   "source": [
    "# Let's try using a single neuron\n",
    "import torch.nn.functional as F\n",
    "print(X_train.shape) #See that its a 3D tensor (a list of 2d matrices)\n",
    "\n",
    "mnist_neuron = nn.Linear(784,10)\n",
    "\n",
    "#Interesting thing about linear: It can only take in vectors or matrices! It can't take a 3D tensor (A bunch of matrices together)\n",
    "#So we need to expand/flatten each image into a 28*28=784 vector, so that we can feed in all the images at once!\n",
    "#Our neuron will take a matrix of (60000, 784) \n",
    "\n",
    "X_train = X_train.view(-1, 28*28)\n",
    "X_train.contiguous()\n",
    "\n",
    "print(X_train.shape)\n",
    "\n",
    "loss_fn = nn.CrossEntropyLoss() # Think of this as a magical function that checks if you predicted the correct class\n",
    "optimizer = torch.optim.Adam(mnist_neuron.parameters())\n",
    "\n",
    "EPOCHS = 150 #What is an epoch? It is one cycle of training on the entire dataset (60,000 images)\n",
    "\n",
    "for epoch in range(EPOCHS):\n",
    "    optimizer.zero_grad()\n",
    "    preds = mnist_neuron(X_train)\n",
    "    loss = loss_fn(preds, y_train)\n",
    "    loss.backward()\n",
    "    optimizer.step()\n",
    "    _, predicted = torch.max(preds.data, 1)  # Get the class with highest probability\n",
    "    correct = (predicted == y_train).sum().item()\n",
    "    accuracy = correct / len(y_train)\n",
    "    print(\"Loss:\",loss.item())\n",
    "    print(f\"Accuracy: {accuracy * 100: .2f}\")\n",
    "\n",
    "#On GPU, this might break -> Why? GPU memory is more limited\n",
    "\n",
    "\n"
   ]
  },
  {
   "cell_type": "markdown",
   "id": "07507bb9-3fe6-4c64-8d74-89f7f5a1b272",
   "metadata": {
    "editable": true,
    "slideshow": {
     "slide_type": "slide"
    },
    "tags": []
   },
   "source": [
    "# Can we just stack neurons together?\n",
    "<div style = \"font-size:24px;\">\n",
    "    \n",
    "- Not really -> Remember that each neuron so far is just a linear equation\n",
    "- If we just stack neurons, we are just creating another line (Line + Line = another line)\n",
    "- Known as collapse\n",
    "</div>\n",
    "\n",
    "![collapse](resources/collapse.png)"
   ]
  },
  {
   "cell_type": "markdown",
   "id": "edf01b29-4711-4fd0-b749-872a308f4991",
   "metadata": {
    "editable": true,
    "slideshow": {
     "slide_type": "skip"
    },
    "tags": []
   },
   "source": [
    "## Mathematical Proof\n",
    "\n",
    "$$y = m_1(m_2x + c_2) + c_1$$\n",
    "$$y = m_1m_2x + c_2m_1 + c_1$$\n",
    "$$m_3 = m_1m_2 and c_3 = c_2m_1 + c_1$$\n",
    "$$y = m_3x +c_3$$"
   ]
  },
  {
   "cell_type": "markdown",
   "id": "5a305f06-4538-4394-bb96-1c850642e3c5",
   "metadata": {
    "editable": true,
    "slideshow": {
     "slide_type": ""
    },
    "tags": []
   },
   "source": [
    "# We need non linearity\n",
    "<div style = \"font-size:24px;\">\n",
    "\n",
    "- That is the only way we can transform our lines into curves and more complicated shapes to fit more difficult data\n",
    "- These non linear functions are known as activation functions\n",
    "\n",
    "</div>"
   ]
  },
  {
   "cell_type": "markdown",
   "id": "613c9d76-45c1-4932-874d-f06b6f40bf66",
   "metadata": {
    "editable": true,
    "jp-MarkdownHeadingCollapsed": true,
    "slideshow": {
     "slide_type": "subslide"
    },
    "tags": []
   },
   "source": [
    "# Activation functions\n",
    "\n",
    "![act](resources/act.png)\n"
   ]
  },
  {
   "cell_type": "markdown",
   "id": "e81ebeb8-dbb4-48f4-a25a-16f444cd1e0b",
   "metadata": {
    "editable": true,
    "slideshow": {
     "slide_type": "subslide"
    },
    "tags": []
   },
   "source": [
    "# Where do we put these activation functions?\n",
    "<div style = \"font-size:24px;\">\n",
    "\n",
    "- Right after each neuron\n",
    "- This is to turn the linear outputs into more robust non linear outputs\n",
    "</div>\n",
    "\n",
    "![active](resources/active.png)\n",
    "\n"
   ]
  },
  {
   "cell_type": "code",
   "execution_count": 10,
   "id": "7e0b81cc-e103-4184-a5b7-2ca844e6f096",
   "metadata": {
    "editable": true,
    "slideshow": {
     "slide_type": "slide"
    },
    "tags": []
   },
   "outputs": [
    {
     "name": "stdout",
     "output_type": "stream",
     "text": [
      "Loss: 2.3066341876983643\n",
      "Accuracy:  9.75\n",
      "Loss: 2.296251058578491\n",
      "Accuracy:  9.75\n",
      "Loss: 2.284046173095703\n",
      "Accuracy:  9.75\n",
      "Loss: 2.2667410373687744\n",
      "Accuracy:  12.14\n",
      "Loss: 2.2421061992645264\n",
      "Accuracy:  18.44\n",
      "Loss: 2.206838846206665\n",
      "Accuracy:  30.59\n",
      "Loss: 2.1570682525634766\n",
      "Accuracy:  37.19\n",
      "Loss: 2.0892579555511475\n",
      "Accuracy:  39.30\n",
      "Loss: 2.002218723297119\n",
      "Accuracy:  43.45\n",
      "Loss: 1.8972233533859253\n",
      "Accuracy:  47.32\n",
      "Loss: 1.7780307531356812\n",
      "Accuracy:  50.31\n",
      "Loss: 1.6484909057617188\n",
      "Accuracy:  54.53\n",
      "Loss: 1.5132883787155151\n",
      "Accuracy:  58.43\n",
      "Loss: 1.3780251741409302\n",
      "Accuracy:  61.77\n",
      "Loss: 1.2484240531921387\n",
      "Accuracy:  67.34\n",
      "Loss: 1.1328932046890259\n",
      "Accuracy:  71.34\n",
      "Loss: 1.030533790588379\n",
      "Accuracy:  71.98\n",
      "Loss: 0.9417275190353394\n",
      "Accuracy:  72.66\n",
      "Loss: 0.8685654997825623\n",
      "Accuracy:  73.41\n",
      "Loss: 0.8075322508811951\n",
      "Accuracy:  75.01\n",
      "Loss: 0.7571350336074829\n",
      "Accuracy:  75.16\n",
      "Loss: 0.7201889157295227\n",
      "Accuracy:  76.53\n",
      "Loss: 0.7040590643882751\n",
      "Accuracy:  76.14\n",
      "Loss: 0.684446394443512\n",
      "Accuracy:  76.74\n",
      "Loss: 0.6419382095336914\n",
      "Accuracy:  79.75\n",
      "Loss: 0.6212920546531677\n",
      "Accuracy:  79.73\n",
      "Loss: 0.5963305234909058\n",
      "Accuracy:  80.27\n",
      "Loss: 0.5702681541442871\n",
      "Accuracy:  82.06\n",
      "Loss: 0.5536875128746033\n",
      "Accuracy:  82.86\n",
      "Loss: 0.5307039022445679\n",
      "Accuracy:  83.27\n",
      "Loss: 0.5167452096939087\n",
      "Accuracy:  83.66\n",
      "Loss: 0.4950915575027466\n",
      "Accuracy:  84.89\n",
      "Loss: 0.4831875264644623\n",
      "Accuracy:  85.39\n",
      "Loss: 0.46683424711227417\n",
      "Accuracy:  86.24\n",
      "Loss: 0.45310088992118835\n",
      "Accuracy:  86.34\n",
      "Loss: 0.44298824667930603\n",
      "Accuracy:  86.98\n",
      "Loss: 0.4285986125469208\n",
      "Accuracy:  87.55\n",
      "Loss: 0.419609934091568\n",
      "Accuracy:  88.09\n",
      "Loss: 0.40986168384552\n",
      "Accuracy:  88.16\n",
      "Loss: 0.397866427898407\n",
      "Accuracy:  88.47\n",
      "Loss: 0.39290380477905273\n",
      "Accuracy:  88.57\n",
      "Loss: 0.3808498978614807\n",
      "Accuracy:  89.15\n",
      "Loss: 0.3742300868034363\n",
      "Accuracy:  89.39\n",
      "Loss: 0.36726275086402893\n",
      "Accuracy:  89.53\n",
      "Loss: 0.3583439588546753\n",
      "Accuracy:  89.78\n",
      "Loss: 0.3527161777019501\n",
      "Accuracy:  89.90\n",
      "Loss: 0.3460083603858948\n",
      "Accuracy:  90.11\n",
      "Loss: 0.33983176946640015\n",
      "Accuracy:  90.20\n",
      "Loss: 0.3341234624385834\n",
      "Accuracy:  90.40\n",
      "Loss: 0.32902073860168457\n",
      "Accuracy:  90.59\n",
      "Loss: 0.32394757866859436\n",
      "Accuracy:  90.75\n",
      "Loss: 0.31864792108535767\n",
      "Accuracy:  90.88\n",
      "Loss: 0.31469017267227173\n",
      "Accuracy:  90.88\n",
      "Loss: 0.31005704402923584\n",
      "Accuracy:  90.96\n",
      "Loss: 0.30534297227859497\n",
      "Accuracy:  91.20\n",
      "Loss: 0.3022250533103943\n",
      "Accuracy:  91.36\n",
      "Loss: 0.2976539134979248\n",
      "Accuracy:  91.47\n",
      "Loss: 0.2939508259296417\n",
      "Accuracy:  91.49\n",
      "Loss: 0.29084986448287964\n",
      "Accuracy:  91.52\n",
      "Loss: 0.2867276072502136\n",
      "Accuracy:  91.71\n",
      "Loss: 0.2836481034755707\n",
      "Accuracy:  91.84\n",
      "Loss: 0.28023040294647217\n",
      "Accuracy:  91.94\n",
      "Loss: 0.276875376701355\n",
      "Accuracy:  91.99\n",
      "Loss: 0.27369004487991333\n",
      "Accuracy:  92.06\n",
      "Loss: 0.2704498767852783\n",
      "Accuracy:  92.21\n",
      "Loss: 0.2674640715122223\n",
      "Accuracy:  92.33\n",
      "Loss: 0.2642178237438202\n",
      "Accuracy:  92.41\n",
      "Loss: 0.2613241672515869\n",
      "Accuracy:  92.45\n",
      "Loss: 0.25838080048561096\n",
      "Accuracy:  92.53\n",
      "Loss: 0.2553829848766327\n",
      "Accuracy:  92.65\n",
      "Loss: 0.2525561451911926\n",
      "Accuracy:  92.72\n",
      "Loss: 0.24980765581130981\n",
      "Accuracy:  92.79\n",
      "Loss: 0.24690289795398712\n",
      "Accuracy:  92.88\n",
      "Loss: 0.24421831965446472\n",
      "Accuracy:  92.97\n",
      "Loss: 0.24152407050132751\n",
      "Accuracy:  93.06\n",
      "Loss: 0.2387361228466034\n",
      "Accuracy:  93.15\n",
      "Loss: 0.23614154756069183\n",
      "Accuracy:  93.22\n",
      "Loss: 0.233409121632576\n",
      "Accuracy:  93.32\n",
      "Loss: 0.23079153895378113\n",
      "Accuracy:  93.41\n",
      "Loss: 0.22813822329044342\n",
      "Accuracy:  93.48\n",
      "Loss: 0.22556057572364807\n",
      "Accuracy:  93.57\n",
      "Loss: 0.22297868132591248\n",
      "Accuracy:  93.69\n",
      "Loss: 0.220384418964386\n",
      "Accuracy:  93.73\n",
      "Loss: 0.21789515018463135\n",
      "Accuracy:  93.80\n",
      "Loss: 0.21531635522842407\n",
      "Accuracy:  93.89\n",
      "Loss: 0.2128249853849411\n",
      "Accuracy:  93.98\n",
      "Loss: 0.21033021807670593\n",
      "Accuracy:  94.03\n",
      "Loss: 0.2078443020582199\n",
      "Accuracy:  94.09\n",
      "Loss: 0.2053835093975067\n",
      "Accuracy:  94.17\n",
      "Loss: 0.2029416412115097\n",
      "Accuracy:  94.24\n",
      "Loss: 0.20051242411136627\n",
      "Accuracy:  94.28\n",
      "Loss: 0.19810278713703156\n",
      "Accuracy:  94.33\n",
      "Loss: 0.19572073221206665\n",
      "Accuracy:  94.42\n",
      "Loss: 0.19336384534835815\n",
      "Accuracy:  94.48\n",
      "Loss: 0.191013365983963\n",
      "Accuracy:  94.55\n",
      "Loss: 0.18870902061462402\n",
      "Accuracy:  94.62\n",
      "Loss: 0.1864074170589447\n",
      "Accuracy:  94.69\n",
      "Loss: 0.18413373827934265\n",
      "Accuracy:  94.77\n",
      "Loss: 0.18189188838005066\n",
      "Accuracy:  94.84\n",
      "Loss: 0.1796649545431137\n",
      "Accuracy:  94.90\n",
      "Loss: 0.1774783879518509\n",
      "Accuracy:  94.93\n",
      "Loss: 0.17530614137649536\n",
      "Accuracy:  94.98\n",
      "Loss: 0.1731761395931244\n",
      "Accuracy:  95.04\n",
      "Loss: 0.1710663139820099\n",
      "Accuracy:  95.11\n",
      "Loss: 0.16899870336055756\n",
      "Accuracy:  95.16\n",
      "Loss: 0.16694797575473785\n",
      "Accuracy:  95.22\n",
      "Loss: 0.1649332195520401\n",
      "Accuracy:  95.27\n",
      "Loss: 0.1629503071308136\n",
      "Accuracy:  95.32\n",
      "Loss: 0.160996675491333\n",
      "Accuracy:  95.38\n",
      "Loss: 0.159072145819664\n",
      "Accuracy:  95.43\n",
      "Loss: 0.15717631578445435\n",
      "Accuracy:  95.49\n",
      "Loss: 0.15531426668167114\n",
      "Accuracy:  95.53\n",
      "Loss: 0.15347908437252045\n",
      "Accuracy:  95.59\n",
      "Loss: 0.15167132019996643\n",
      "Accuracy:  95.63\n",
      "Loss: 0.14989334344863892\n",
      "Accuracy:  95.69\n",
      "Loss: 0.1481403410434723\n",
      "Accuracy:  95.74\n",
      "Loss: 0.14641810953617096\n",
      "Accuracy:  95.79\n",
      "Loss: 0.14471793174743652\n",
      "Accuracy:  95.83\n",
      "Loss: 0.14304476976394653\n",
      "Accuracy:  95.91\n",
      "Loss: 0.1413963884115219\n",
      "Accuracy:  95.97\n",
      "Loss: 0.13977670669555664\n",
      "Accuracy:  96.01\n",
      "Loss: 0.13817985355854034\n",
      "Accuracy:  96.07\n",
      "Loss: 0.13660921156406403\n",
      "Accuracy:  96.12\n",
      "Loss: 0.13506218791007996\n",
      "Accuracy:  96.17\n",
      "Loss: 0.13353805243968964\n",
      "Accuracy:  96.21\n",
      "Loss: 0.13203519582748413\n",
      "Accuracy:  96.26\n",
      "Loss: 0.13055521249771118\n",
      "Accuracy:  96.31\n",
      "Loss: 0.12909771502017975\n",
      "Accuracy:  96.34\n",
      "Loss: 0.12766015529632568\n",
      "Accuracy:  96.39\n",
      "Loss: 0.12624453008174896\n",
      "Accuracy:  96.43\n",
      "Loss: 0.12484955787658691\n",
      "Accuracy:  96.47\n",
      "Loss: 0.12347376346588135\n",
      "Accuracy:  96.51\n",
      "Loss: 0.12211739271879196\n",
      "Accuracy:  96.54\n",
      "Loss: 0.12077818065881729\n",
      "Accuracy:  96.57\n",
      "Loss: 0.11945819854736328\n",
      "Accuracy:  96.61\n",
      "Loss: 0.11815760284662247\n",
      "Accuracy:  96.63\n",
      "Loss: 0.1168786957859993\n",
      "Accuracy:  96.67\n",
      "Loss: 0.11561670899391174\n",
      "Accuracy:  96.71\n",
      "Loss: 0.11436843127012253\n",
      "Accuracy:  96.73\n",
      "Loss: 0.11313128471374512\n",
      "Accuracy:  96.78\n",
      "Loss: 0.11191007494926453\n",
      "Accuracy:  96.81\n",
      "Loss: 0.11070504784584045\n",
      "Accuracy:  96.84\n",
      "Loss: 0.10951770097017288\n",
      "Accuracy:  96.87\n",
      "Loss: 0.10834906995296478\n",
      "Accuracy:  96.90\n",
      "Loss: 0.10719697177410126\n",
      "Accuracy:  96.94\n",
      "Loss: 0.10606413334608078\n",
      "Accuracy:  96.98\n",
      "Loss: 0.10495155304670334\n",
      "Accuracy:  97.02\n",
      "Loss: 0.10385588556528091\n",
      "Accuracy:  97.04\n",
      "Loss: 0.10277726501226425\n",
      "Accuracy:  97.08\n",
      "Loss: 0.10169652849435806\n",
      "Accuracy:  97.10\n"
     ]
    }
   ],
   "source": [
    "# Exercise 3:\n",
    "# Let's create our first MLP: MultiLayer Perceptron\n",
    "\n",
    "class MLP(nn.Module): #nn.Module is like a container (It stores multiple layers of neurons, and you have full control on how to do the forward pass)\n",
    "    def __init__(self):\n",
    "        super().__init__() #Initialise the parent class, so that everything works properly\n",
    "        self.layer1 = nn.Linear(784, 512)\n",
    "        self.layer2 = nn.Linear(512, 256)\n",
    "        self.layer3 = nn.Linear(256, 128)\n",
    "        self.layer4 = nn.Linear(128,64)\n",
    "        self.layer5 = nn.Linear(64,10)\n",
    "        self.act = nn.ReLU()\n",
    "    def forward(self, x): #With multiple layers, you need to define the order you feed the input in\n",
    "        x = self.layer1(x)\n",
    "        x = self.act(x)\n",
    "        x = self.layer2(x)\n",
    "        x = F.relu(x)\n",
    "        x = self.layer3(x)\n",
    "        x = F.relu(x)\n",
    "        x = self.layer4(x)\n",
    "        x = F.relu(x)\n",
    "        out = self.layer5(x)\n",
    "        return out\n",
    "\n",
    "\n",
    "model = MLP() #Call your model\n",
    "X_train = X_train.view(-1, 28*28)\n",
    "X_train.contiguous()\n",
    "\n",
    "\n",
    "loss_fn = nn.CrossEntropyLoss() # Think of this as a magical function that checks if you predicted the correct class\n",
    "optimizer = torch.optim.Adam(model.parameters())\n",
    "\n",
    "EPOCHS = 150 #What is an epoch? It is one cycle of training on the entire dataset (60,000 images)\n",
    "\n",
    "for epoch in range(EPOCHS):\n",
    "    optimizer.zero_grad()\n",
    "    preds = model(X_train)\n",
    "    loss = loss_fn(preds, y_train)\n",
    "    loss.backward()\n",
    "    optimizer.step()\n",
    "    _, predicted = torch.max(preds.data, 1)  # Get the class with highest probability\n",
    "    correct = (predicted == y_train).sum().item()\n",
    "    accuracy = correct / len(y_train)\n",
    "    print(\"Loss:\",loss.item())\n",
    "    print(f\"Accuracy: {accuracy * 100: .2f}\")\n",
    "        "
   ]
  },
  {
   "cell_type": "markdown",
   "id": "84708e93-11a2-4014-8bcf-bf833b8cf607",
   "metadata": {
    "editable": true,
    "slideshow": {
     "slide_type": "slide"
    },
    "tags": []
   },
   "source": [
    "# How does forward pass and gradient descent work for multiple layers?\n",
    "<div style = \"font-size:24px;\">\n",
    "\n",
    "- Almost the same!\n",
    "- Slight modification for backward pass\n",
    "\n",
    "</div>"
   ]
  },
  {
   "cell_type": "markdown",
   "id": "5e3f2805-9a17-4f6d-875e-bb8d49fb0fb1",
   "metadata": {
    "editable": true,
    "slideshow": {
     "slide_type": "fragment"
    },
    "tags": []
   },
   "source": [
    "# Forward Pass Illustration\n",
    "\n",
    "![forward](resources/unnamed.gif)"
   ]
  },
  {
   "cell_type": "markdown",
   "id": "2dcad3cf-f08d-4392-8a99-fbd2c62cefdc",
   "metadata": {
    "editable": true,
    "slideshow": {
     "slide_type": "slide"
    },
    "tags": []
   },
   "source": [
    "# How does backpropagation work?\n",
    "<div style = \"font-size:24px;\">\n",
    "\n",
    "- Look at the structure of the neural network\n",
    "- Observe that we need to calculate the input m and c **w.r.t loss**\n",
    "- We need to expand everything just to do that differentiation\n",
    "- Because of this, if we start doing gradient descent from the input, it will be very messy and complicated\n",
    "- We need to start from the back: Hence, backpropagation\n",
    "</div>\n",
    "\n"
   ]
  },
  {
   "cell_type": "markdown",
   "id": "02c810b1-faaf-418f-b12d-b5d1f907948d",
   "metadata": {
    "editable": true,
    "slideshow": {
     "slide_type": "slide"
    },
    "tags": []
   },
   "source": [
    "# How does backpropagation work?\n",
    "<div style = \"font-size:24px;\">\n",
    "\n",
    "- Using the gradient descent, we are going to work from the back\n",
    "- Calculate the m and c for the layer closest to the output\n",
    "- Work our way backwards\n",
    "\n",
    "- Why should this make sense:\n",
    "    - Working backwards means we can more easily isolate and update the parameters without worrying about how the neurons interact\n",
    "    - Also mathematically easier!\n",
    "    - Remember chain rule from differentiation\n",
    "    - Used to make computing layers further away from the output more easy\n",
    "</div>"
   ]
  },
  {
   "cell_type": "markdown",
   "id": "3d4679b8-bff5-4075-af21-375f6c5a3c3e",
   "metadata": {
    "editable": true,
    "slideshow": {
     "slide_type": "fragment"
    },
    "tags": []
   },
   "source": [
    "<img src=resources/bac.gif style=\"width:600px\">"
   ]
  },
  {
   "cell_type": "markdown",
   "id": "26a3775d-cae6-4ed9-8fdc-310cf3e1b2f0",
   "metadata": {
    "editable": true,
    "slideshow": {
     "slide_type": ""
    },
    "tags": []
   },
   "source": [
    "# Backpropagation, an example\n",
    "\n",
    "<div style = \"font-size:24px;\">\n",
    "\n",
    "- Suppose we have $\\delta$L/$\\delta w_n$, and $\\delta$L/$\\delta b_n$, the final layer's weights and biases\n",
    "- If I want to go update the layer before it, I require $\\delta$ L/$\\delta w_{n-1}$\n",
    "- This might be very difficult to compute\n",
    "- I can find $\\delta w_n/\\delta w_{n-1}$ -> Easier as they are directly connected\n",
    "- Then I can use chain rule to find dL/d$w_{n-1}$\n",
    "\n",
    "</div>"
   ]
  },
  {
   "cell_type": "markdown",
   "id": "fd238504-9d01-4f19-8c41-09faef9f837d",
   "metadata": {
    "editable": true,
    "slideshow": {
     "slide_type": "slide"
    },
    "tags": []
   },
   "source": [
    "# Evals:\n",
    "\n",
    "<div style = \"font-size:24px;\">\n",
    "\n",
    "- Be careful of the results mentioned here\n",
    "- Might only be for the current dataset\n",
    "- It might fail on data not seen before (Does not generalise well)\n",
    "- Therefore we always have a test set\n",
    "\n",
    "</div>"
   ]
  },
  {
   "cell_type": "markdown",
   "id": "a9228a3a-c280-4304-8672-b5d9729bd97b",
   "metadata": {
    "editable": true,
    "slideshow": {
     "slide_type": "slide"
    },
    "tags": []
   },
   "source": [
    "# Overfitting and Underfitting\n",
    "\n",
    "<div style = \"font-size:24px;\">\n",
    "\n",
    "- Overfitting: It does better in training data but fails test data badly\n",
    "- Underfitting: It just doesn't learn\n",
    "</div>\n",
    "\n",
    " ![overfit](https://www.mathworks.com/discovery/overfitting/_jcr_content/mainParsys/image.adapt.full.medium.svg/1718273106637.svg)\n",
    " "
   ]
  },
  {
   "cell_type": "code",
   "execution_count": 15,
   "id": "25beb91d-e138-4bf5-9a42-88170678b355",
   "metadata": {
    "editable": true,
    "slideshow": {
     "slide_type": "slide"
    },
    "tags": []
   },
   "outputs": [
    {
     "name": "stdout",
     "output_type": "stream",
     "text": [
      "Single Neuron Test Accuracy: 88.76%\n",
      "MLP Test Accuracy: 90.55%\n"
     ]
    }
   ],
   "source": [
    "#Let's try using our models on the test data\n",
    "\n",
    "X_test = read_idx('data/t10k-images.idx3-ubyte')\n",
    "y_test = read_idx('data/t10k-labels.idx1-ubyte')\n",
    "\n",
    "# Convert to torch tensors \n",
    "X_test = torch.from_numpy(X_test.copy()).float()\n",
    "y_test = torch.from_numpy(y_test.copy()).long()\n",
    "\n",
    "# Normalize & flatten\n",
    "X_test = X_test / 255.0\n",
    "X_test = X_test.view(-1, 28*28)\n",
    "\n",
    "\n",
    "# Test accuracy\n",
    "@torch.no_grad() #Tells model not to store gradients because we are just inferencing\n",
    "def test_model(model, X, y):\n",
    "   with torch.no_grad():\n",
    "       preds = model(X)\n",
    "       _, predicted = torch.max(preds.data, 1)\n",
    "       correct = (predicted == y).sum().item()\n",
    "       accuracy = correct / len(y)\n",
    "       return accuracy * 100\n",
    "\n",
    "# Test single neuron\n",
    "print(\"Single Neuron Test Accuracy: {:.2f}%\".format(test_model(mnist_neuron, X_test, y_test))) \n",
    "\n",
    "# Test MLP\n",
    "print(\"MLP Test Accuracy: {:.2f}%\".format(test_model(model, X_test, y_test)))"
   ]
  },
  {
   "cell_type": "code",
   "execution_count": 19,
   "id": "b42b88ed-db04-4f09-9c79-2ba4fe15a7f8",
   "metadata": {
    "editable": true,
    "slideshow": {
     "slide_type": "slide"
    },
    "tags": []
   },
   "outputs": [
    {
     "name": "stdout",
     "output_type": "stream",
     "text": [
      "Model Accuracy: 90.55%\n"
     ]
    },
    {
     "data": {
      "image/png": "[encoded data removed]",
      "text/plain": [
       "<Figure size 1200x600 with 8 Axes>"
      ]
     },
     "metadata": {},
     "output_type": "display_data"
    }
   ],
   "source": [
    "# It's best to also view what examples were wrong\n",
    "\n",
    "@torch.no_grad()\n",
    "def find_mistakes(model, X, y):\n",
    "    model.eval()\n",
    "    preds = model(X)\n",
    "    _, predicted = torch.max(preds.data, 1)\n",
    "    \n",
    "    # Find misclassified examples\n",
    "    mistakes_mask = predicted != y\n",
    "    mistakes_X = X[mistakes_mask]\n",
    "    mistakes_y_true = y[mistakes_mask]\n",
    "    mistakes_y_pred = predicted[mistakes_mask]\n",
    "    \n",
    "    accuracy = (predicted == y).sum().item() / len(y) * 100\n",
    "    \n",
    "    return accuracy, mistakes_X, mistakes_y_true, mistakes_y_pred\n",
    "\n",
    "def plot_mistakes(mistakes_X, true_labels, pred_labels, num_images=8):\n",
    "    # Create subplot grid (2 rows x 4 columns)\n",
    "    fig, axes = plt.subplots(2, 4, figsize=(12, 6))\n",
    "    axes = axes.ravel()  # Flatten axes array for easier indexing\n",
    "    \n",
    "    # Plot up to num_images mistakes\n",
    "    for idx in range(min(num_images, len(mistakes_X))):\n",
    "        # Get image and remove channel dimension for plotting\n",
    "        img = mistakes_X[idx].reshape(28,28)\n",
    "        \n",
    "        # Plot image\n",
    "        axes[idx].imshow(img, cmap='gray')\n",
    "        axes[idx].axis('off')\n",
    "        axes[idx].set_title(f'True: {true_labels[idx].item()}\\nPred: {pred_labels[idx].item()}')\n",
    "    \n",
    "    plt.tight_layout()\n",
    "    plt.show()\n",
    "\n",
    "# Usage:\n",
    "accuracy, mistakes_X, true_labels, pred_labels = find_mistakes(model, X_test, y_test)\n",
    "print(f\"Model Accuracy: {accuracy:.2f}%\")\n",
    "plot_mistakes(mistakes_X, true_labels, pred_labels)"
   ]
  },
  {
   "cell_type": "markdown",
   "id": "e47424a6-f36a-4d6b-b876-800635519011",
   "metadata": {
    "editable": true,
    "slideshow": {
     "slide_type": "slide"
    },
    "tags": []
   },
   "source": [
    "# How to setup GPU on google colab\n",
    "\n",
    "1) Click \"Connect\" on the top right corner\n",
    "![connect](resources/connect.png)\n",
    "2) Click \"Change Runtime Type\"\n",
    "3) Set GPU\n",
    "![gpu](resources/runtime.png)\n"
   ]
  },
  {
   "cell_type": "code",
   "execution_count": 12,
   "id": "fd1fac53-3b9f-4a05-9c62-08d334a97911",
   "metadata": {
    "editable": true,
    "slideshow": {
     "slide_type": "slide"
    },
    "tags": []
   },
   "outputs": [
    {
     "name": "stdout",
     "output_type": "stream",
     "text": [
      "Current epoch: 1\n",
      "Current epoch: 2\n",
      "Current epoch: 3\n",
      "Current epoch: 4\n",
      "Current epoch: 5\n",
      "Time taken = 50.347538232803345\n"
     ]
    }
   ],
   "source": [
    "## Bonus 2: Batching and running on GPU and other cool tricks\n",
    "\n",
    "# Sometimes training a neural network can be very slow\n",
    "\n",
    "#Can we do some methods to speed up training?\n",
    "import time\n",
    "#1 Run on GPU\n",
    "device = 'cuda' if torch.cuda.is_available() else 'cpu' #Checks if GPU present\n",
    "##Create a dataset for these values (Originally we didn't have to, but the torchvision MNIST is down)\n",
    "from torch.utils.data import Dataset, DataLoader\n",
    "\n",
    "class MNISTDataset(Dataset): # A dataset is a collection of data\n",
    "    def __init__(self, X, y):\n",
    "        # Normalize the data to [0, 1] range\n",
    "        self.X = X / 255.0\n",
    "        # Add channel dimension (MNIST is grayscale)\n",
    "        self.y = y\n",
    "        \n",
    "    def __len__(self):\n",
    "        return len(self.y)\n",
    "    \n",
    "    def __getitem__(self, idx): #Gets next item\n",
    "        reshaped_X = self.X[idx].view(28*28)\n",
    "        reshaped_X.contiguous()\n",
    "        return reshaped_X, self.y[idx]\n",
    "\n",
    "# Create dataset\n",
    "mnist_dataset = MNISTDataset(X_train, y_train)\n",
    "\n",
    "# Create dataloader\n",
    "batch_size = 32 # A batch is how many images to retrieve at any time\n",
    "train_loader = DataLoader(\n",
    "    mnist_dataset,\n",
    "    batch_size=batch_size,\n",
    "    shuffle=True,  # Shuffle the data for training\n",
    "    num_workers=2  # Number of subprocesses for data loading\n",
    ")\n",
    "\n",
    "# We use a batch because GPU memory tends to be limited, so it can't fit all 60,000 images for larger networks\n",
    "model = MLP().to(device) #This tells the program to send the model to GPU if available \n",
    "#Optimization 2:\n",
    "#model = torch.compile(model)\n",
    "\n",
    "# Now you can use it in training:\n",
    "EPOCHS = 5\n",
    "loss_fn = nn.CrossEntropyLoss()\n",
    "optim = torch.optim.Adam(model.parameters())\n",
    "start = time.time()\n",
    "for epoch in range(EPOCHS):\n",
    "    print(\"Current epoch:\",epoch+1)\n",
    "    for batch_X, batch_y in train_loader:\n",
    "        # batch_X shape: [batch_size, 1, 28, 28]\n",
    "        # batch_y shape: [batch_size\n",
    "        optim.zero_grad()\n",
    "        batch_X = batch_X.to(device)\n",
    "        batch_Y = batch_y.to(device)\n",
    "        preds = model(batch_X) #We dont need to send this because its already on the GPU!\n",
    "        loss = loss_fn(preds, batch_Y)\n",
    "        loss.backward()\n",
    "        optim.step()\n",
    "end = time.time()\n",
    "\n",
    "print(\"Time taken =\",end-start)\n",
    "\n",
    "\n",
    "\n"
   ]
  },
  {
   "cell_type": "markdown",
   "id": "e6ba4684-179a-48f7-b727-47d7a7a28668",
   "metadata": {
    "editable": true,
    "slideshow": {
     "slide_type": ""
    },
    "tags": []
   },
   "source": [
    "# Thank you"
   ]
  },
  {
   "cell_type": "markdown",
   "id": "9b338076-96b9-406e-839d-2b9d9c214ef8",
   "metadata": {
    "editable": true,
    "slideshow": {
     "slide_type": ""
    },
    "tags": []
   },
   "source": [
    "# Bonus resources: (To be explored after the worshop)\n",
    "\n",
    "- Find out how crossentropy and softmax works\n",
    "    - Crossentropy: https://medium.com/@libertihub/cross-entropy-loss-function-a-simple-explanation-for-everyone-58a27f85f69b\"\n",
    "    - Softmax: https://medium.com/@sue_nlp/what-is-the-softmax-function-used-in-deep-learning-illustrated-in-an-easy-to-understand-way-8b937fe13d49\n",
    "\n",
    "  \n",
    "- Try out a few different [activation functions](https://pytorch.org/docs/stable/nn.html#non-linear-activations-weighted-sum-nonlinearity)\n",
    "    - Sigmoid\n",
    "    - Swish\n",
    "    - GeLU\n",
    "- Try out different [optimizers](https://pytorch.org/docs/stable/optim.html)\n",
    "    - Adam\n",
    "    - AdamW\n",
    "\n",
    "- Add different layers \n",
    "    - [BatchNorm](https://pytorch.org/docs/stable/generated/torch.nn.BatchNorm1d.html)"
   ]
  },
  {
   "cell_type": "code",
   "execution_count": null,
   "id": "e3ff8c34-9a5d-4cad-a498-80ba27a6e1be",
   "metadata": {
    "editable": true,
    "slideshow": {
     "slide_type": ""
    },
    "tags": []
   },
   "outputs": [],
   "source": []
  },
  {
   "cell_type": "code",
   "execution_count": null,
   "id": "e319828a-aa79-4e28-b053-9b750483df31",
   "metadata": {
    "editable": true,
    "slideshow": {
     "slide_type": ""
    },
    "tags": []
   },
   "outputs": [],
   "source": []
  }
 ],
 "metadata": {
  "celltoolbar": "Slideshow",
  "kernelspec": {
   "display_name": "Python 3 (ipykernel)",
   "language": "python",
   "name": "python3"
  },
  "language_info": {
   "codemirror_mode": {
    "name": "ipython",
    "version": 3
   },
   "file_extension": ".py",
   "mimetype": "text/x-python",
   "name": "python",
   "nbconvert_exporter": "python",
   "pygments_lexer": "ipython3",
   "version": "3.12.7"
  }
 },
 "nbformat": 4,
 "nbformat_minor": 5
}
